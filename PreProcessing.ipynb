{
  "nbformat": 4,
  "nbformat_minor": 0,
  "metadata": {
    "colab": {
      "provenance": [],
      "mount_file_id": "1qxiX4Wumk8pbGbb0rfgQUup5Z7M5MUqO",
      "authorship_tag": "ABX9TyNFJANFmrPXon0GYxj9Ocp6",
      "include_colab_link": true
    },
    "kernelspec": {
      "name": "python3",
      "display_name": "Python 3"
    },
    "language_info": {
      "name": "python"
    }
  },
  "cells": [
    {
      "cell_type": "markdown",
      "metadata": {
        "id": "view-in-github",
        "colab_type": "text"
      },
      "source": [
        "<a href=\"https://colab.research.google.com/github/oli2tup/LunarLander_Game_Automation/blob/main/PreProcessing.ipynb\" target=\"_parent\"><img src=\"https://colab.research.google.com/assets/colab-badge.svg\" alt=\"Open In Colab\"/></a>"
      ]
    },
    {
      "cell_type": "code",
      "execution_count": null,
      "metadata": {
        "id": "BPSWPoa6Aq4Y"
      },
      "outputs": [],
      "source": [
        "import csv\n",
        "from csv import reader\n",
        "\n",
        "# python code to normalize data in ce889_dataCollection.csv"
      ]
    },
    {
      "cell_type": "code",
      "source": [
        "outputFile = open('postProcessed.csv', 'w')"
      ],
      "metadata": {
        "id": "rSCQ0FVBBPM9"
      },
      "execution_count": null,
      "outputs": []
    },
    {
      "cell_type": "code",
      "source": [
        "# function to return a normalised value\n",
        "# (each value - min) / (max - min) to normalise values\n",
        "def normalise(data, max_value, min_value):\n",
        "    value = (data - min_value) / (max_value - min_value)\n",
        "    return value"
      ],
      "metadata": {
        "id": "cUvVWSGiBTCF"
      },
      "execution_count": null,
      "outputs": []
    },
    {
      "cell_type": "code",
      "source": [
        "# variables for max values\n",
        "max_x = 0\n",
        "max_y = 0\n",
        "max_velocityX = 0\n",
        "max_velocityY = 0\n",
        "\n",
        "# variables for min values\n",
        "min_x = 0\n",
        "min_y = 0\n",
        "min_velocityX =  0\n",
        "min_velocityY = 0\n",
        "\n"
      ],
      "metadata": {
        "id": "kmPj5DFOBT0-"
      },
      "execution_count": null,
      "outputs": []
    },
    {
      "cell_type": "code",
      "source": [
        "# setting the min and max values for each column\n",
        "with open(\"ce889_dataCollection.csv\", 'r') as data_file:\n",
        "    csv_reader = reader(data_file)\n",
        "    for row in csv_reader:\n",
        "      # checking every row and comapring the x, y, vx, and vy to \n",
        "      # the current min and max to find the min and max\n",
        "      x = float(row[0])\n",
        "      if x > max_x:\n",
        "          max_x = x\n",
        "      if x < min_x:\n",
        "          min_x = x\n",
        "\n",
        "      y = float(row[1])\n",
        "      if y > max_y:\n",
        "          max_y = y\n",
        "      if y < min_y:\n",
        "          min_y = y\n",
        "\n",
        "      vx = float(row[3])\n",
        "      if vx > max_velocityX:\n",
        "          max_velocityX = vx\n",
        "      if vx < min_velocityX:\n",
        "          min_velocityX = vx\n",
        "\n",
        "      vy = float(row[2])\n",
        "      if vy > max_velocityY:\n",
        "          max_velocityY = vy\n",
        "      if vy < min_velocityY:\n",
        "          min_velocityY = vy"
      ],
      "metadata": {
        "id": "iaTfGyDgBWBE"
      },
      "execution_count": null,
      "outputs": []
    },
    {
      "cell_type": "code",
      "source": [
        "print(max_x, min_x)\n",
        "print(max_y, min_y)\n",
        "print(min_velocityY, max_velocityY)\n",
        "print(min_velocityX, max_velocityX)\n"
      ],
      "metadata": {
        "colab": {
          "base_uri": "https://localhost:8080/"
        },
        "id": "c08Og4B2pPT2",
        "outputId": "8218b7a0-3bdc-45d5-e11e-98e94f241c1e"
      },
      "execution_count": null,
      "outputs": [
        {
          "output_type": "stream",
          "name": "stdout",
          "text": [
            "800.1857509503868 -813.6322129507362\n",
            "1026.296359 0\n",
            "-7.993645967 8.0\n",
            "-6.507824398 5.923180394\n"
          ]
        }
      ]
    },
    {
      "cell_type": "code",
      "source": [
        "# replaces the values in each column with a normalised value written in a new fiel\n",
        "with open(\"ce889_dataCollection.csv\", 'r') as data_file:\n",
        "    csv_reader = reader(data_file)\n",
        "    for row in csv_reader:\n",
        "      \n",
        "      if float(row[0]) != 0.0 and float(row[1]) != 0.0 and float(row[2]) != 0.0 and float(row[3]) != 0.0:\n",
        "        # with every row in the file, covert the  float, call the normalise \n",
        "        # function defined earlier on the float and write to correct place in \n",
        "        # the new file       \n",
        "        x = float(row[0])\n",
        "        new_x = normalise(x, max_x, min_x)\n",
        "        place = row[0].replace(str(row[0]), str(new_x))\n",
        "        outputFile.write(place + \",\")\n",
        "\n",
        "        y = float(row[1])\n",
        "        new_y = normalise(y, max_y, min_y)\n",
        "        place1 = row[1].replace(str(row[1]), str(new_y))\n",
        "        outputFile.write(place1 + \",\")\n",
        "\n",
        "        vx = float(row[3])\n",
        "        new_vx = normalise(vx, max_velocityX, min_velocityX)\n",
        "        place2 = row[3].replace(str(row[3]), str(new_vx))\n",
        "        outputFile.write(place2 + \",\")\n",
        "\n",
        "        vy = float(row[2])\n",
        "        new_vy = normalise(vy, max_velocityY, min_velocityY)\n",
        "        place3 = row[2].replace(str(row[2]), str(new_vy))\n",
        "        outputFile.write(place3 + \",\" + '\\n')\n",
        "\n",
        "\n",
        "\n"
      ],
      "metadata": {
        "id": "gH5BFDzNBcGf"
      },
      "execution_count": null,
      "outputs": []
    },
    {
      "cell_type": "code",
      "source": [
        "print(max_x, min_x)\n",
        "print(min_y, max_y)\n",
        "print(min_velocityX, max_velocityX)\n",
        "print(min_velocityY, max_velocityY)"
      ],
      "metadata": {
        "id": "g4ZMFwMXFAd3",
        "colab": {
          "base_uri": "https://localhost:8080/"
        },
        "outputId": "d6ee39f7-e95a-40b7-bae4-ca44781f8049"
      },
      "execution_count": null,
      "outputs": [
        {
          "output_type": "stream",
          "name": "stdout",
          "text": [
            "800.1857509503868 -813.6322129507362\n",
            "-7.993645967 8.0\n"
          ]
        }
      ]
    },
    {
      "cell_type": "code",
      "source": [
        "# splitting data into training:70%, testing:15% and validation:15%\n",
        "import pandas as pd\n",
        "\n",
        "full_data = 'postProcessed.csv'\n",
        "\n",
        "# num of rows in the csvfile\n",
        "num_data = sum(1 for row in (open(full_data)))\n",
        "train_data_num = int(70/100 * num_data)\n",
        "test_data_num = int(15/100  * num_data)\n",
        "val_data_num = int(15/100 * num_data)\n",
        "\n",
        "# how many rows to write to new file\n",
        "row_size = 4 \n",
        "\n",
        "# takes the full data and appends to a new give csv, lines from 'prev' to 'data'\n",
        "# function \n",
        "def split(prev, data, out_csv):\n",
        "  for i in range(prev, data, row_size):\n",
        "\n",
        "    # reading from the pre_processed data\n",
        "    df = pd.read_csv(full_data,\n",
        "                    header = None,\n",
        "                    nrows = row_size,\n",
        "                    skiprows = i)\n",
        "    \n",
        "    # name of the csv, given when calling the function  \n",
        "    df.to_csv(out_csv,\n",
        "              index = False,\n",
        "              header = False,\n",
        "              mode = 'a',\n",
        "              chunksize = row_size)\n",
        "\n",
        "# so the function will split the data from \n",
        "# 0 - 70% \n",
        "# 70% - 85%\n",
        "# 85% - 100% \n",
        "test_data_num += train_data_num\n",
        "val_data_num += test_data_num\n",
        "\n",
        "# calling the function\n",
        "split(0, train_data_num, 'train_data.csv')\n",
        "split(train_data_num, test_data_num, 'test_data.csv')\n",
        "split(test_data_num, val_data_num, 'val_data.csv')"
      ],
      "metadata": {
        "id": "nZQ9iuwm6-Zx"
      },
      "execution_count": null,
      "outputs": []
    }
  ]
}